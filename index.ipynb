{
 "cells": [
  {
   "cell_type": "code",
   "execution_count": null,
   "id": "308c7371",
   "metadata": {},
   "outputs": [
    {
     "data": {
      "text/plain": [
       "datetime.date(2025, 9, 15)"
      ]
     },
     "execution_count": 3,
     "metadata": {},
     "output_type": "execute_result"
    }
   ],
   "source": [
    "from julseb_lib_python_utils import add_day\n",
    "\n",
    "add_day(1)"
   ]
  },
  {
   "cell_type": "code",
   "execution_count": null,
   "id": "57b5e30d",
   "metadata": {},
   "outputs": [
    {
     "data": {
      "text/plain": [
       "datetime.date(2025, 10, 14)"
      ]
     },
     "execution_count": 4,
     "metadata": {},
     "output_type": "execute_result"
    }
   ],
   "source": [
    "from julseb_lib_python_utils import add_month\n",
    "\n",
    "add_month(1)"
   ]
  },
  {
   "cell_type": "code",
   "execution_count": null,
   "id": "f70d307a",
   "metadata": {},
   "outputs": [
    {
     "data": {
      "text/plain": [
       "datetime.date(2026, 9, 14)"
      ]
     },
     "execution_count": 5,
     "metadata": {},
     "output_type": "execute_result"
    }
   ],
   "source": [
    "from julseb_lib_python_utils import add_year\n",
    "\n",
    "add_year(1)"
   ]
  },
  {
   "cell_type": "code",
   "execution_count": null,
   "id": "c278e445",
   "metadata": {},
   "outputs": [
    {
     "data": {
      "text/plain": [
       "2.5"
      ]
     },
     "execution_count": 6,
     "metadata": {},
     "output_type": "execute_result"
    }
   ],
   "source": [
    "from julseb_lib_python_utils import calculate_average\n",
    "\n",
    "calculate_average([1, 2, 3, 4])"
   ]
  },
  {
   "cell_type": "code",
   "execution_count": null,
   "id": "c51d82be",
   "metadata": {},
   "outputs": [
    {
     "data": {
      "text/plain": [
       "10"
      ]
     },
     "execution_count": 7,
     "metadata": {},
     "output_type": "execute_result"
    }
   ],
   "source": [
    "from julseb_lib_python_utils import calculate_total_sum\n",
    "\n",
    "calculate_total_sum([1, 2, 3, 4])"
   ]
  },
  {
   "cell_type": "code",
   "execution_count": null,
   "id": "6636f8bb",
   "metadata": {},
   "outputs": [
    {
     "data": {
      "text/plain": [
       "'Hello'"
      ]
     },
     "execution_count": 8,
     "metadata": {},
     "output_type": "execute_result"
    }
   ],
   "source": [
    "from julseb_lib_python_utils import capitalize\n",
    "\n",
    "capitalize(\"hello\")"
   ]
  },
  {
   "cell_type": "code",
   "execution_count": null,
   "id": "ac4be726",
   "metadata": {},
   "outputs": [
    {
     "data": {
      "text/plain": [
       "'17 Sep 1992'"
      ]
     },
     "execution_count": 9,
     "metadata": {},
     "output_type": "execute_result"
    }
   ],
   "source": [
    "from julseb_lib_python_utils import convert_date_short\n",
    "\n",
    "convert_date_short(\"1992-09-17\")"
   ]
  },
  {
   "cell_type": "code",
   "execution_count": null,
   "id": "af320127",
   "metadata": {},
   "outputs": [
    {
     "data": {
      "text/plain": [
       "'17 September 1992'"
      ]
     },
     "execution_count": 10,
     "metadata": {},
     "output_type": "execute_result"
    }
   ],
   "source": [
    "from julseb_lib_python_utils import convert_date\n",
    "\n",
    "convert_date(\"1992-09-17\")"
   ]
  },
  {
   "cell_type": "code",
   "execution_count": null,
   "id": "80b03cdd",
   "metadata": {},
   "outputs": [
    {
     "data": {
      "text/plain": [
       "'900.00 €'"
      ]
     },
     "execution_count": 11,
     "metadata": {},
     "output_type": "execute_result"
    }
   ],
   "source": [
    "from julseb_lib_python_utils import convert_price\n",
    "\n",
    "convert_price(900)"
   ]
  },
  {
   "cell_type": "code",
   "execution_count": null,
   "id": "edb7a2a2",
   "metadata": {},
   "outputs": [
    {
     "data": {
      "text/plain": [
       "'julien.sebag@email.com'"
      ]
     },
     "execution_count": 1,
     "metadata": {},
     "output_type": "execute_result"
    }
   ],
   "source": [
    "from julseb_lib_python_utils import convert_to_email\n",
    "\n",
    "convert_to_email(\"Julien Sebag\")"
   ]
  },
  {
   "cell_type": "code",
   "execution_count": null,
   "id": "9e430151",
   "metadata": {},
   "outputs": [
    {
     "data": {
      "text/plain": [
       "'https://www.youtube.com/embed/TOXOSdI33ng'"
      ]
     },
     "execution_count": 2,
     "metadata": {},
     "output_type": "execute_result"
    }
   ],
   "source": [
    "from julseb_lib_python_utils import convert_youtube\n",
    "\n",
    "convert_youtube(\"https://www.youtube.com/watch?v=TOXOSdI33ng\")"
   ]
  },
  {
   "cell_type": "code",
   "execution_count": null,
   "id": "d9052055",
   "metadata": {},
   "outputs": [
    {
     "data": {
      "text/plain": [
       "[1, 2, 3, 4]"
      ]
     },
     "execution_count": 3,
     "metadata": {},
     "output_type": "execute_result"
    }
   ],
   "source": [
    "from julseb_lib_python_utils import delete_duplicates\n",
    "\n",
    "delete_duplicates([1, 1, 2, 3, 4])"
   ]
  },
  {
   "cell_type": "code",
   "execution_count": null,
   "id": "fe8ac205",
   "metadata": {},
   "outputs": [
    {
     "name": "stdout",
     "output_type": "stream",
     "text": [
      "{'b': 15, 'd': 20}\n"
     ]
    }
   ],
   "source": [
    "from julseb_lib_python_utils import filter_object\n",
    "\n",
    "data = {\"a\": 5, \"b\": 15, \"c\": 3, \"d\": 20}\n",
    "filtered = filter_object(data, lambda entry, i, entries: entry[1] >= 10)\n",
    "print(filtered)"
   ]
  },
  {
   "cell_type": "code",
   "execution_count": null,
   "id": "2f0f4d26",
   "metadata": {},
   "outputs": [
    {
     "data": {
      "text/plain": [
       "'2025-09-14'"
      ]
     },
     "execution_count": 5,
     "metadata": {},
     "output_type": "execute_result"
    }
   ],
   "source": [
    "from datetime import datetime, timezone\n",
    "from julseb_lib_python_utils import format_date\n",
    "\n",
    "format_date(datetime.now(timezone.utc))"
   ]
  },
  {
   "cell_type": "code",
   "execution_count": null,
   "id": "e1bacb2c",
   "metadata": {},
   "outputs": [
    {
     "data": {
      "text/plain": [
       "'10:30'"
      ]
     },
     "execution_count": 7,
     "metadata": {},
     "output_type": "execute_result"
    }
   ],
   "source": [
    "from julseb_lib_python_utils import format_hour\n",
    "\n",
    "format_hour(10.50)"
   ]
  },
  {
   "cell_type": "code",
   "execution_count": 8,
   "id": "f3dcc6e1",
   "metadata": {},
   "outputs": [
    {
     "data": {
      "text/plain": [
       "[0,\n",
       " 1,\n",
       " 2,\n",
       " 3,\n",
       " 4,\n",
       " 5,\n",
       " 6,\n",
       " 7,\n",
       " 8,\n",
       " 9,\n",
       " 10,\n",
       " 11,\n",
       " 12,\n",
       " 13,\n",
       " 14,\n",
       " 15,\n",
       " 16,\n",
       " 17,\n",
       " 18,\n",
       " 19,\n",
       " 20,\n",
       " 21,\n",
       " 22,\n",
       " 23,\n",
       " 24,\n",
       " 25,\n",
       " 26,\n",
       " 27,\n",
       " 28,\n",
       " 29,\n",
       " 30,\n",
       " 31,\n",
       " 32,\n",
       " 33,\n",
       " 34,\n",
       " 35,\n",
       " 36,\n",
       " 37,\n",
       " 38,\n",
       " 39,\n",
       " 40,\n",
       " 41,\n",
       " 42,\n",
       " 43,\n",
       " 44,\n",
       " 45,\n",
       " 46,\n",
       " 47,\n",
       " 48,\n",
       " 49,\n",
       " 50,\n",
       " 51,\n",
       " 52,\n",
       " 53,\n",
       " 54,\n",
       " 55,\n",
       " 56,\n",
       " 57,\n",
       " 58,\n",
       " 59,\n",
       " 60,\n",
       " 61,\n",
       " 62,\n",
       " 63,\n",
       " 64,\n",
       " 65,\n",
       " 66,\n",
       " 67,\n",
       " 68,\n",
       " 69,\n",
       " 70,\n",
       " 71,\n",
       " 72,\n",
       " 73,\n",
       " 74,\n",
       " 75,\n",
       " 76,\n",
       " 77,\n",
       " 78,\n",
       " 79,\n",
       " 80,\n",
       " 81,\n",
       " 82,\n",
       " 83,\n",
       " 84,\n",
       " 85,\n",
       " 86,\n",
       " 87,\n",
       " 88,\n",
       " 89,\n",
       " 90,\n",
       " 91,\n",
       " 92,\n",
       " 93,\n",
       " 94,\n",
       " 95,\n",
       " 96,\n",
       " 97,\n",
       " 98,\n",
       " 99,\n",
       " 100]"
      ]
     },
     "execution_count": 8,
     "metadata": {},
     "output_type": "execute_result"
    }
   ],
   "source": [
    "from julseb_lib_python_utils import generate_numbers\n",
    "\n",
    "generate_numbers()"
   ]
  },
  {
   "cell_type": "code",
   "execution_count": 9,
   "id": "da7966cb",
   "metadata": {},
   "outputs": [
    {
     "data": {
      "text/plain": [
       "'Julien'"
      ]
     },
     "execution_count": 9,
     "metadata": {},
     "output_type": "execute_result"
    }
   ],
   "source": [
    "from julseb_lib_python_utils import get_first_name\n",
    "\n",
    "get_first_name(\"Julien Sebag\")"
   ]
  },
  {
   "cell_type": "code",
   "execution_count": 10,
   "id": "4d00a70b",
   "metadata": {},
   "outputs": [
    {
     "data": {
      "text/plain": [
       "'JS'"
      ]
     },
     "execution_count": 10,
     "metadata": {},
     "output_type": "execute_result"
    }
   ],
   "source": [
    "from julseb_lib_python_utils import get_initials\n",
    "\n",
    "get_initials(\"Julien Sebag\")"
   ]
  },
  {
   "cell_type": "code",
   "execution_count": 11,
   "id": "bb3f3e36",
   "metadata": {},
   "outputs": [
    {
     "data": {
      "text/plain": [
       "'Sebag'"
      ]
     },
     "execution_count": 11,
     "metadata": {},
     "output_type": "execute_result"
    }
   ],
   "source": [
    "from julseb_lib_python_utils import get_last_name\n",
    "\n",
    "get_last_name(\"Julien Sebag\")"
   ]
  },
  {
   "cell_type": "code",
   "execution_count": 12,
   "id": "31f4d347",
   "metadata": {},
   "outputs": [
    {
     "data": {
      "text/plain": [
       "'2025-09-18'"
      ]
     },
     "execution_count": 12,
     "metadata": {},
     "output_type": "execute_result"
    }
   ],
   "source": [
    "from julseb_lib_python_utils import get_next_day\n",
    "\n",
    "get_next_day(\"2025-09-17\")"
   ]
  },
  {
   "cell_type": "code",
   "execution_count": 13,
   "id": "83f70b45",
   "metadata": {},
   "outputs": [
    {
     "data": {
      "text/plain": [
       "8.333333333333334"
      ]
     },
     "execution_count": 13,
     "metadata": {},
     "output_type": "execute_result"
    }
   ],
   "source": [
    "from julseb_lib_python_utils import get_percentage\n",
    "\n",
    "get_percentage(50, 600)"
   ]
  },
  {
   "cell_type": "code",
   "execution_count": 14,
   "id": "9c5557d0",
   "metadata": {},
   "outputs": [
    {
     "data": {
      "text/plain": [
       "'https://raw.githubusercontent.com/Ashwinvalento/cartoon-avatar/master/lib/images/male/82.png'"
      ]
     },
     "execution_count": 14,
     "metadata": {},
     "output_type": "execute_result"
    }
   ],
   "source": [
    "from julseb_lib_python_utils import get_random_avatar\n",
    "\n",
    "get_random_avatar(\"male\")"
   ]
  },
  {
   "cell_type": "code",
   "execution_count": 15,
   "id": "fccde4f9",
   "metadata": {},
   "outputs": [
    {
     "data": {
      "text/plain": [
       "'1995-05-12'"
      ]
     },
     "execution_count": 15,
     "metadata": {},
     "output_type": "execute_result"
    }
   ],
   "source": [
    "from julseb_lib_python_utils import get_random_date\n",
    "\n",
    "get_random_date(1992, 2000)"
   ]
  },
  {
   "cell_type": "code",
   "execution_count": 16,
   "id": "f066e152",
   "metadata": {},
   "outputs": [
    {
     "data": {
      "text/plain": [
       "60"
      ]
     },
     "execution_count": 16,
     "metadata": {},
     "output_type": "execute_result"
    }
   ],
   "source": [
    "from julseb_lib_python_utils import get_random_number\n",
    "\n",
    "get_random_number()"
   ]
  },
  {
   "cell_type": "code",
   "execution_count": 17,
   "id": "51e9dc31",
   "metadata": {},
   "outputs": [
    {
     "data": {
      "text/plain": [
       "'p1pTFsEHEtV8AgxUIy9H'"
      ]
     },
     "execution_count": 17,
     "metadata": {},
     "output_type": "execute_result"
    }
   ],
   "source": [
    "from julseb_lib_python_utils import get_random_string\n",
    "\n",
    "get_random_string()"
   ]
  },
  {
   "cell_type": "code",
   "execution_count": 18,
   "id": "6bf3258d",
   "metadata": {},
   "outputs": [
    {
     "data": {
      "text/plain": [
       "'16:41'"
      ]
     },
     "execution_count": 18,
     "metadata": {},
     "output_type": "execute_result"
    }
   ],
   "source": [
    "from julseb_lib_python_utils import get_random_time\n",
    "\n",
    "get_random_time()"
   ]
  },
  {
   "cell_type": "code",
   "execution_count": 19,
   "id": "f003351a",
   "metadata": {},
   "outputs": [
    {
     "data": {
      "text/plain": [
       "2"
      ]
     },
     "execution_count": 19,
     "metadata": {},
     "output_type": "execute_result"
    }
   ],
   "source": [
    "from julseb_lib_python_utils import get_random\n",
    "\n",
    "get_random([1, 2, 3, 4])"
   ]
  },
  {
   "cell_type": "code",
   "execution_count": 20,
   "id": "65fe269c",
   "metadata": {},
   "outputs": [
    {
     "data": {
      "text/plain": [
       "'15:04'"
      ]
     },
     "execution_count": 20,
     "metadata": {},
     "output_type": "execute_result"
    }
   ],
   "source": [
    "from julseb_lib_python_utils import get_time_now\n",
    "\n",
    "get_time_now()"
   ]
  },
  {
   "cell_type": "code",
   "execution_count": 21,
   "id": "4bbeb110",
   "metadata": {},
   "outputs": [
    {
     "data": {
      "text/plain": [
       "'2025-09-14'"
      ]
     },
     "execution_count": 21,
     "metadata": {},
     "output_type": "execute_result"
    }
   ],
   "source": [
    "from julseb_lib_python_utils import get_today\n",
    "\n",
    "get_today()"
   ]
  },
  {
   "cell_type": "code",
   "execution_count": 22,
   "id": "aa0797e3",
   "metadata": {},
   "outputs": [
    {
     "data": {
      "text/plain": [
       "'2025-09-15'"
      ]
     },
     "execution_count": 22,
     "metadata": {},
     "output_type": "execute_result"
    }
   ],
   "source": [
    "from julseb_lib_python_utils import get_tomorrow\n",
    "\n",
    "get_tomorrow()"
   ]
  },
  {
   "cell_type": "code",
   "execution_count": 23,
   "id": "cc8bf6ee",
   "metadata": {},
   "outputs": [
    {
     "data": {
      "text/plain": [
       "'2025-09-13'"
      ]
     },
     "execution_count": 23,
     "metadata": {},
     "output_type": "execute_result"
    }
   ],
   "source": [
    "from julseb_lib_python_utils import get_yesterday\n",
    "\n",
    "get_yesterday()"
   ]
  },
  {
   "cell_type": "code",
   "execution_count": 24,
   "id": "7fc23060",
   "metadata": {},
   "outputs": [
    {
     "data": {
      "text/plain": [
       "'(0, 0, 0)'"
      ]
     },
     "execution_count": 24,
     "metadata": {},
     "output_type": "execute_result"
    }
   ],
   "source": [
    "from julseb_lib_python_utils import hex_to_rgb\n",
    "\n",
    "hex_to_rgb(\"#000000\")"
   ]
  },
  {
   "cell_type": "code",
   "execution_count": 28,
   "id": "dbcd594a",
   "metadata": {},
   "outputs": [
    {
     "name": "stdout",
     "output_type": "stream",
     "text": [
      "True\n",
      "False\n"
     ]
    }
   ],
   "source": [
    "import re\n",
    "from julseb_lib_python_utils import email_regex\n",
    "def is_valid_email(email):\n",
    "\treturn re.match(email_regex, email) is not None\n",
    "\n",
    "print(is_valid_email(\"test@example.com\"))\n",
    "print(is_valid_email(\"test\"))"
   ]
  },
  {
   "cell_type": "code",
   "execution_count": 29,
   "id": "de765ec5",
   "metadata": {},
   "outputs": [
    {
     "name": "stdout",
     "output_type": "stream",
     "text": [
      "True\n",
      "False\n"
     ]
    }
   ],
   "source": [
    "import re\n",
    "from julseb_lib_python_utils import password_regex\n",
    "\n",
    "def is_valid_password(password):\n",
    "    return re.match(password_regex, password) is not None\n",
    "\n",
    "print(is_valid_password(\"HelloWorld42\"))\n",
    "print(is_valid_password(\"helloworld\"))"
   ]
  },
  {
   "cell_type": "code",
   "execution_count": 30,
   "id": "df6f3b9c",
   "metadata": {},
   "outputs": [
    {
     "data": {
      "text/plain": [
       "'#FFFFFF'"
      ]
     },
     "execution_count": 30,
     "metadata": {},
     "output_type": "execute_result"
    }
   ],
   "source": [
    "from julseb_lib_python_utils import rgb_to_hex\n",
    "\n",
    "rgb_to_hex(255, 255, 255)"
   ]
  },
  {
   "cell_type": "code",
   "execution_count": 31,
   "id": "f6c2c71f",
   "metadata": {},
   "outputs": [
    {
     "data": {
      "text/plain": [
       "'hello-world'"
      ]
     },
     "execution_count": 31,
     "metadata": {},
     "output_type": "execute_result"
    }
   ],
   "source": [
    "from julseb_lib_python_utils import slugify\n",
    "\n",
    "slugify(\"hello world\")"
   ]
  },
  {
   "cell_type": "code",
   "execution_count": 32,
   "id": "16bfa549",
   "metadata": {},
   "outputs": [
    {
     "data": {
      "text/plain": [
       "['foo', 'hello', 'baz', 'bar', 'world']"
      ]
     },
     "execution_count": 32,
     "metadata": {},
     "output_type": "execute_result"
    }
   ],
   "source": [
    "from julseb_lib_python_utils import sort_by_frequency\n",
    "\n",
    "sort_by_frequency([\"hello\", \"world\", \"foo\", \"bar\", \"baz\", \"baz\", \"hello\", \"hello\", \"foo\", \"foo\", \"foo\"])"
   ]
  },
  {
   "cell_type": "code",
   "execution_count": 33,
   "id": "49e10d7c",
   "metadata": {},
   "outputs": [
    {
     "name": "stdout",
     "output_type": "stream",
     "text": [
      "100px\n",
      "100vw\n"
     ]
    }
   ],
   "source": [
    "from julseb_lib_python_utils import stringify_px\n",
    "\n",
    "print(stringify_px(100))\n",
    "print(stringify_px(\"100vw\"))"
   ]
  },
  {
   "cell_type": "code",
   "execution_count": 34,
   "id": "7a38e14d",
   "metadata": {},
   "outputs": [
    {
     "data": {
      "text/plain": [
       "' hello world'"
      ]
     },
     "execution_count": 34,
     "metadata": {},
     "output_type": "execute_result"
    }
   ],
   "source": [
    "from julseb_lib_python_utils.to_base_case import to_base_case\n",
    "to_base_case(\"HelloWorld\")"
   ]
  },
  {
   "cell_type": "code",
   "execution_count": 1,
   "id": "ca76abdf",
   "metadata": {},
   "outputs": [
    {
     "data": {
      "text/plain": [
       "'helloWorld'"
      ]
     },
     "execution_count": 1,
     "metadata": {},
     "output_type": "execute_result"
    }
   ],
   "source": [
    "from julseb_lib_python_utils import to_camel_case\n",
    "to_camel_case(\"hello world\")"
   ]
  },
  {
   "cell_type": "code",
   "execution_count": 2,
   "id": "fe736e45",
   "metadata": {},
   "outputs": [
    {
     "data": {
      "text/plain": [
       "'HELLO_WORLD'"
      ]
     },
     "execution_count": 2,
     "metadata": {},
     "output_type": "execute_result"
    }
   ],
   "source": [
    "from julseb_lib_python_utils import to_constant_case\n",
    "to_constant_case(\"hello world\")"
   ]
  },
  {
   "cell_type": "code",
   "execution_count": 3,
   "id": "96919b68",
   "metadata": {},
   "outputs": [
    {
     "data": {
      "text/plain": [
       "'hello.world'"
      ]
     },
     "execution_count": 3,
     "metadata": {},
     "output_type": "execute_result"
    }
   ],
   "source": [
    "from julseb_lib_python_utils import to_dot_case\n",
    "\n",
    "to_dot_case(\"hello world\")"
   ]
  },
  {
   "cell_type": "code",
   "execution_count": 4,
   "id": "2a711462",
   "metadata": {},
   "outputs": [
    {
     "data": {
      "text/plain": [
       "'hello-world'"
      ]
     },
     "execution_count": 4,
     "metadata": {},
     "output_type": "execute_result"
    }
   ],
   "source": [
    "from julseb_lib_python_utils import to_kebab_case\n",
    "\n",
    "to_kebab_case(\"hello world\")"
   ]
  },
  {
   "cell_type": "code",
   "execution_count": 1,
   "id": "5161d046",
   "metadata": {},
   "outputs": [
    {
     "data": {
      "text/plain": [
       "'HelloWorld'"
      ]
     },
     "execution_count": 1,
     "metadata": {},
     "output_type": "execute_result"
    }
   ],
   "source": [
    "from julseb_lib_python_utils import to_pascal_case\n",
    "\n",
    "to_pascal_case(\"hello world\")"
   ]
  },
  {
   "cell_type": "code",
   "execution_count": 2,
   "id": "748d1acc",
   "metadata": {},
   "outputs": [
    {
     "data": {
      "text/plain": [
       "'hello/world'"
      ]
     },
     "execution_count": 2,
     "metadata": {},
     "output_type": "execute_result"
    }
   ],
   "source": [
    "from julseb_lib_python_utils import to_path_case\n",
    "\n",
    "to_path_case(\"hello world\")"
   ]
  },
  {
   "cell_type": "code",
   "execution_count": 3,
   "id": "9ac55a28",
   "metadata": {},
   "outputs": [
    {
     "data": {
      "text/plain": [
       "'Hello world'"
      ]
     },
     "execution_count": 3,
     "metadata": {},
     "output_type": "execute_result"
    }
   ],
   "source": [
    "from julseb_lib_python_utils import to_sentence_case\n",
    "\n",
    "to_sentence_case(\"hello world\")"
   ]
  },
  {
   "cell_type": "code",
   "execution_count": 4,
   "id": "f672d0ff",
   "metadata": {},
   "outputs": [
    {
     "data": {
      "text/plain": [
       "'hello_world'"
      ]
     },
     "execution_count": 4,
     "metadata": {},
     "output_type": "execute_result"
    }
   ],
   "source": [
    "from julseb_lib_python_utils import to_snake_case\n",
    "\n",
    "to_snake_case(\"hello world\")"
   ]
  },
  {
   "cell_type": "code",
   "execution_count": 5,
   "id": "c99968c6",
   "metadata": {},
   "outputs": [
    {
     "data": {
      "text/plain": [
       "'Hello World'"
      ]
     },
     "execution_count": 5,
     "metadata": {},
     "output_type": "execute_result"
    }
   ],
   "source": [
    "from julseb_lib_python_utils import to_title_case\n",
    "\n",
    "to_title_case(\"hello world\")"
   ]
  },
  {
   "cell_type": "code",
   "execution_count": 1,
   "id": "14399fb1",
   "metadata": {},
   "outputs": [
    {
     "data": {
      "text/plain": [
       "'hello world foo'"
      ]
     },
     "execution_count": 1,
     "metadata": {},
     "output_type": "execute_result"
    }
   ],
   "source": [
    "from julseb_lib_python_utils import unslugify\n",
    "\n",
    "unslugify(\"hello-world/foo\")"
   ]
  },
  {
   "cell_type": "code",
   "execution_count": 2,
   "id": "05822b74",
   "metadata": {},
   "outputs": [
    {
     "data": {
      "text/plain": [
       "'1082848151590'"
      ]
     },
     "execution_count": 2,
     "metadata": {},
     "output_type": "execute_result"
    }
   ],
   "source": [
    "from julseb_lib_python_utils import uuid\n",
    "\n",
    "uuid()"
   ]
  },
  {
   "cell_type": "code",
   "execution_count": null,
   "id": "49c1c115",
   "metadata": {},
   "outputs": [],
   "source": []
  }
 ],
 "metadata": {
  "kernelspec": {
   "display_name": ".venv (3.12.3)",
   "language": "python",
   "name": "python3"
  },
  "language_info": {
   "codemirror_mode": {
    "name": "ipython",
    "version": 3
   },
   "file_extension": ".py",
   "mimetype": "text/x-python",
   "name": "python",
   "nbconvert_exporter": "python",
   "pygments_lexer": "ipython3",
   "version": "3.12.3"
  }
 },
 "nbformat": 4,
 "nbformat_minor": 5
}
